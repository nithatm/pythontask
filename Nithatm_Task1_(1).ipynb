{
  "nbformat": 4,
  "nbformat_minor": 0,
  "metadata": {
    "colab": {
      "provenance": []
    },
    "kernelspec": {
      "name": "python3",
      "display_name": "Python 3"
    },
    "language_info": {
      "name": "python"
    }
  },
  "cells": [
    {
      "cell_type": "markdown",
      "source": [
        "1.Write a Python program to sum all the items in a list."
      ],
      "metadata": {
        "id": "GKxdT9oxLUMZ"
      }
    },
    {
      "cell_type": "code",
      "source": [
        "list=[2,6,7,9,11,12]\n",
        "add=sum(list)\n",
        "print(\"sum of all the items in the list=\",add)"
      ],
      "metadata": {
        "colab": {
          "base_uri": "https://localhost:8080/"
        },
        "id": "mIz7n3wELaU1",
        "outputId": "25539ac5-76d7-4aaa-acd7-131018828b09"
      },
      "execution_count": null,
      "outputs": [
        {
          "output_type": "stream",
          "name": "stdout",
          "text": [
            "sum of all the items in the list= 47\n"
          ]
        }
      ]
    },
    {
      "cell_type": "markdown",
      "source": [
        "2.Write a Python program to get the largest number from a list."
      ],
      "metadata": {
        "id": "2KaEwjEBLuMb"
      }
    },
    {
      "cell_type": "code",
      "source": [
        "list=[12,3,25,67,9,10,14]\n",
        "list.sort()\n",
        "print(\"largest number from the list is\", list[-1])"
      ],
      "metadata": {
        "colab": {
          "base_uri": "https://localhost:8080/"
        },
        "id": "aKbK_QKrLy-9",
        "outputId": "537510b9-d62a-4560-b005-58986469ecdb"
      },
      "execution_count": null,
      "outputs": [
        {
          "output_type": "stream",
          "name": "stdout",
          "text": [
            "largest number from the list is 67\n"
          ]
        }
      ]
    },
    {
      "cell_type": "markdown",
      "source": [
        "3.Write a Python program to count the number of strings from a given list of strings. The string length is 2 or more and the first and last characters are the same.\n",
        "\n",
        "Sample List : ['abc', 'xyz', 'aba', '1221']\n",
        "\n",
        "Expected Result : 2"
      ],
      "metadata": {
        "id": "BYApK0XLM59d"
      }
    },
    {
      "cell_type": "code",
      "source": [
        "words=['abc','xyz','aba','1221']\n",
        "count=0\n",
        "for i in words:\n",
        "  if len(i)>1 and i[0]==i[-1]:\n",
        "    count+=1\n",
        "print(count)\n"
      ],
      "metadata": {
        "id": "eWRDdiLiNCYY",
        "colab": {
          "base_uri": "https://localhost:8080/"
        },
        "outputId": "808aa319-e355-457f-8af8-c66ad4a52de5"
      },
      "execution_count": null,
      "outputs": [
        {
          "output_type": "stream",
          "name": "stdout",
          "text": [
            "2\n"
          ]
        }
      ]
    },
    {
      "cell_type": "markdown",
      "source": [
        "4.Write a Python program to remove duplicates from a list."
      ],
      "metadata": {
        "id": "SoOkahJCODUQ"
      }
    },
    {
      "cell_type": "code",
      "source": [
        "def Remove(duplicate):\n",
        "    result=[]\n",
        "    for num in duplicate:\n",
        "        if num not in result:\n",
        "            result.append(num)\n",
        "    return result\n",
        "duplicate = [3, 14, 50, 78, 3, 14, 20, 4]\n",
        "print(Remove(duplicate))"
      ],
      "metadata": {
        "colab": {
          "base_uri": "https://localhost:8080/"
        },
        "id": "AEOPwuk9Ofqi",
        "outputId": "83d89098-28ac-409e-f750-83f0d6db3f43"
      },
      "execution_count": null,
      "outputs": [
        {
          "output_type": "stream",
          "name": "stdout",
          "text": [
            "[3, 14, 50, 78, 20, 4]\n"
          ]
        }
      ]
    },
    {
      "cell_type": "markdown",
      "source": [
        "5.Write a Python program to check if a list is empty or not."
      ],
      "metadata": {
        "id": "Wu70fTnrP5NV"
      }
    },
    {
      "cell_type": "code",
      "source": [
        "list1 = []\n",
        "if list1!=[]:\n",
        "    print(\"The list is not empty\")\n",
        "else:\n",
        "    print(\"Empty List\")"
      ],
      "metadata": {
        "colab": {
          "base_uri": "https://localhost:8080/"
        },
        "id": "07oeajMkQONB",
        "outputId": "ece943a1-356e-4976-f17a-3f9dcd9e410a"
      },
      "execution_count": null,
      "outputs": [
        {
          "output_type": "stream",
          "name": "stdout",
          "text": [
            "Empty List\n"
          ]
        }
      ]
    },
    {
      "cell_type": "code",
      "source": [
        "list1 = [1,45,6,7]\n",
        "if list1!=[]:\n",
        "    print(\"The list is not empty\")\n",
        "else:\n",
        "    print(\"Empty List\")"
      ],
      "metadata": {
        "colab": {
          "base_uri": "https://localhost:8080/"
        },
        "id": "zTz32DDsRnLH",
        "outputId": "406fca01-0765-4cac-a980-7fa573e3eaec"
      },
      "execution_count": null,
      "outputs": [
        {
          "output_type": "stream",
          "name": "stdout",
          "text": [
            "The list is not empty\n"
          ]
        }
      ]
    },
    {
      "cell_type": "markdown",
      "source": [
        "6.Write a Python program to filter the list if the length of the character is < 4"
      ],
      "metadata": {
        "id": "smZDTlw3RvRr"
      }
    },
    {
      "cell_type": "code",
      "source": [
        "list1=['cat','dog','lion','tiger']\n",
        "result=[]\n",
        "for i in list1:\n",
        "  if len(i)<4:\n",
        "    result.append(i)\n",
        "print(result)"
      ],
      "metadata": {
        "colab": {
          "base_uri": "https://localhost:8080/"
        },
        "id": "LimdXJSeR1KP",
        "outputId": "5886e202-cfe9-4682-8fc8-f65a85544ef0"
      },
      "execution_count": null,
      "outputs": [
        {
          "output_type": "stream",
          "name": "stdout",
          "text": [
            "['cat', 'dog']\n"
          ]
        }
      ]
    },
    {
      "cell_type": "markdown",
      "source": [
        "7.Write a Python program to find the second largest number in a list."
      ],
      "metadata": {
        "id": "yZeI2-SCTngn"
      }
    },
    {
      "cell_type": "code",
      "source": [
        "list1 = [10, 20, 4, 45, 99,100,56]\n",
        "\n",
        "list1.sort()\n",
        "\n",
        "print(\"Second largest element is:\", sorted(list1)[-2])\n"
      ],
      "metadata": {
        "colab": {
          "base_uri": "https://localhost:8080/"
        },
        "id": "FQtSfOLtVhaz",
        "outputId": "a57426a0-2731-47f5-ca3b-5aacd47c5f17"
      },
      "execution_count": null,
      "outputs": [
        {
          "output_type": "stream",
          "name": "stdout",
          "text": [
            "Second largest element is: 99\n"
          ]
        }
      ]
    },
    {
      "cell_type": "markdown",
      "source": [
        "8. Write a Python program to reverse a list at a specific location."
      ],
      "metadata": {
        "id": "vLzQ4Jv7Ycr0"
      }
    },
    {
      "cell_type": "code",
      "source": [
        "loc=2\n",
        "l=[9,12,16,14,4,7]\n",
        "l1=l[:2]\n",
        "l2=l[2:]\n",
        "l2.reverse()\n",
        "result=l1+l2\n",
        "print(result)"
      ],
      "metadata": {
        "colab": {
          "base_uri": "https://localhost:8080/"
        },
        "id": "p75FXX2Va82U",
        "outputId": "8b6e4c59-8e89-4f9d-ccc1-daf53968f3f7"
      },
      "execution_count": null,
      "outputs": [
        {
          "output_type": "stream",
          "name": "stdout",
          "text": [
            "[9, 12, 7, 4, 14, 16]\n"
          ]
        }
      ]
    },
    {
      "cell_type": "markdown",
      "source": [
        "9. Write a Python program to check if a list is a palindrome or not. Return true otherwise false.\n"
      ],
      "metadata": {
        "id": "-mIvdmfVMCyV"
      }
    },
    {
      "cell_type": "code",
      "source": [
        "test_list = [1, 4, 5, 4, 1]\n",
        "print(\"The original list is : \" + str(test_list))\n",
        "reverse = test_list[::-1]\n",
        "\n",
        "res = test_list == reverse\n",
        "\n",
        "print(\"Is list Palindrome : \" + str(res))"
      ],
      "metadata": {
        "colab": {
          "base_uri": "https://localhost:8080/"
        },
        "id": "7G1JGKwNbfow",
        "outputId": "14397b32-e984-4be3-adfd-2301bf17ec6b"
      },
      "execution_count": null,
      "outputs": [
        {
          "output_type": "stream",
          "name": "stdout",
          "text": [
            "The original list is : [1, 4, 5, 4, 1]\n",
            "Is list Palindrome : True\n"
          ]
        }
      ]
    },
    {
      "cell_type": "markdown",
      "source": [
        "10.Write a Python a program to find the union and intersection of two lists."
      ],
      "metadata": {
        "id": "LQ_7sw4dcGUf"
      }
    },
    {
      "cell_type": "code",
      "source": [
        "def intersection(lst1, lst2):\n",
        "    lst3 = [value for value in lst1 if value in lst2]\n",
        "    return lst3\n",
        "def Union(lst1, lst2):\n",
        "    final_list = lst1 + lst2\n",
        "    return final_list\n",
        "\n",
        "# Driver Code\n",
        "lst1 = [4, 9, 1, 17, 11, 26, 28, 54, 69]\n",
        "lst2 = [9, 9, 74, 21, 45, 11, 63, 28, 26]\n",
        "print(intersection(lst1, lst2))\n",
        "print(Union(lst1, lst2))"
      ],
      "metadata": {
        "colab": {
          "base_uri": "https://localhost:8080/"
        },
        "id": "JnJN7OYSeubY",
        "outputId": "6fd1bac2-3918-4b77-c554-bc1e237958f2"
      },
      "execution_count": null,
      "outputs": [
        {
          "output_type": "stream",
          "name": "stdout",
          "text": [
            "[9, 11, 26, 28]\n",
            "[4, 9, 1, 17, 11, 26, 28, 54, 69, 9, 9, 74, 21, 45, 11, 63, 28, 26]\n"
          ]
        }
      ]
    },
    {
      "cell_type": "markdown",
      "source": [
        "11.Write a Python script to sort (ascending and descending) a dictionary by value"
      ],
      "metadata": {
        "id": "JlM1kv32gaVP"
      }
    },
    {
      "cell_type": "code",
      "source": [
        "import operator\n",
        "d = {1: 2, 3: 4, 4: 3, 2: 1, 0: 0}\n",
        "print('Original dictionary : ',d)\n",
        "sorted_d = sorted(d.items(), key=operator.itemgetter(1))\n",
        "print('Dictionary in ascending order by value : ',sorted_d)\n",
        "sorted_d = dict( sorted(d.items(), key=operator.itemgetter(1), reverse=True))\n",
        "print('Dictionary in descending order by value : ',sorted_d)"
      ],
      "metadata": {
        "id": "stiaf4yuge7V",
        "colab": {
          "base_uri": "https://localhost:8080/"
        },
        "outputId": "4885b0c2-6d09-49c9-bfde-d1e6192e7fc2"
      },
      "execution_count": null,
      "outputs": [
        {
          "output_type": "stream",
          "name": "stdout",
          "text": [
            "Original dictionary :  {1: 2, 3: 4, 4: 3, 2: 1, 0: 0}\n",
            "Dictionary in ascending order by value :  [(0, 0), (2, 1), (1, 2), (4, 3), (3, 4)]\n",
            "Dictionary in descending order by value :  {3: 4, 4: 3, 1: 2, 2: 1, 0: 0}\n"
          ]
        }
      ]
    },
    {
      "cell_type": "markdown",
      "source": [
        "12.Write a Python script to check whether a given key already exists in a dictionary."
      ],
      "metadata": {
        "id": "AMaQscHEg2c8"
      }
    },
    {
      "cell_type": "code",
      "source": [
        "def checkKey(dic, key):\n",
        "\n",
        "    if key in dic:\n",
        "        print(\"exist\")\n",
        "        print(\"value =\", dic[key])\n",
        "    else:\n",
        "        print(\"Not exist\")\n",
        "\n",
        "dic = {'a': 100, 'b':200, 'c':300}\n",
        "key = 'b'\n",
        "checkKey(dic, key)\n"
      ],
      "metadata": {
        "colab": {
          "base_uri": "https://localhost:8080/"
        },
        "id": "9CVixAZWhjQ_",
        "outputId": "0c755e0f-a14a-4702-f05e-295592170c41"
      },
      "execution_count": null,
      "outputs": [
        {
          "output_type": "stream",
          "name": "stdout",
          "text": [
            "exist\n",
            "value = 200\n"
          ]
        }
      ]
    },
    {
      "cell_type": "markdown",
      "source": [
        "13.Write a Python program to sum all the values in a dictionary."
      ],
      "metadata": {
        "id": "7DinJn8ZiTB_"
      }
    },
    {
      "cell_type": "code",
      "source": [
        "def returnSum(myDict):\n",
        "    list = []\n",
        "    for i in myDict:\n",
        "        list.append(myDict[i])\n",
        "    final = sum(list)\n",
        "\n",
        "    return final\n",
        "\n",
        "dict = {'a': 100, 'b': 200, 'c': 300}\n",
        "print(\"Sum :\", returnSum(dict))"
      ],
      "metadata": {
        "colab": {
          "base_uri": "https://localhost:8080/"
        },
        "id": "Lmt-tAsCiYQ7",
        "outputId": "75746cd5-a50b-4a6b-d972-2de082d957db"
      },
      "execution_count": null,
      "outputs": [
        {
          "output_type": "stream",
          "name": "stdout",
          "text": [
            "Sum : 600\n"
          ]
        }
      ]
    },
    {
      "cell_type": "markdown",
      "source": [
        "14.Write a Python program to create a dictionary with a number and its corresponding square from 1 to input number. And also check if the input number is less than 10"
      ],
      "metadata": {
        "id": "ILV_b39cjNUP"
      }
    },
    {
      "cell_type": "code",
      "source": [
        "n=int(input(\"Enter a number:\"))\n",
        "if(n<10):\n",
        " d={x:x*x for x in range(1,n+1)}\n",
        " print(d)\n",
        "else:\n",
        " print(\"Limit exceeded\")"
      ],
      "metadata": {
        "colab": {
          "base_uri": "https://localhost:8080/"
        },
        "id": "vTdcJgNdBIPI",
        "outputId": "180d582e-5f6a-4b5b-89c7-de536a4d9ccc"
      },
      "execution_count": null,
      "outputs": [
        {
          "output_type": "stream",
          "name": "stdout",
          "text": [
            "Enter a number:6\n",
            "{1: 1, 2: 4, 3: 9, 4: 16, 5: 25, 6: 36}\n"
          ]
        }
      ]
    },
    {
      "cell_type": "markdown",
      "source": [
        "15.Write a Python program to sort a given dictionary by key."
      ],
      "metadata": {
        "id": "wOM5_RjDjimm"
      }
    },
    {
      "cell_type": "code",
      "source": [
        "my_dict = {\"Nitha\": 15,\"bimal\":12,\"bindu\":8,\"murali\":23,\"anu\":25}\n",
        "sorted_dic={}\n",
        "sorted_key=sorted(my_dict.keys())\n",
        "for i in sorted_key:\n",
        "    sorted_dic[i]=my_dict[i]\n",
        "\n",
        "print(sorted_dic)"
      ],
      "metadata": {
        "colab": {
          "base_uri": "https://localhost:8080/"
        },
        "id": "Jk4M6jGAyriD",
        "outputId": "8e00c117-e8fc-41e3-c0aa-0f1f579bfb0f"
      },
      "execution_count": null,
      "outputs": [
        {
          "output_type": "stream",
          "name": "stdout",
          "text": [
            "{'Nitha': 15, 'anu': 25, 'bimal': 12, 'bindu': 8, 'murali': 23}\n"
          ]
        }
      ]
    },
    {
      "cell_type": "markdown",
      "source": [
        "16.Write a Python program to create a dictionary from a string."
      ],
      "metadata": {
        "id": "oH6HFtO1CDjO"
      }
    },
    {
      "cell_type": "code",
      "source": [
        "string=\"python program\"\n",
        "dic = {}\n",
        "for letter in string:\n",
        "  dic[letter] = dic.get(letter, 0) + 1\n",
        "print(dic)"
      ],
      "metadata": {
        "colab": {
          "base_uri": "https://localhost:8080/"
        },
        "id": "IP-lqdqzCPC2",
        "outputId": "2ea33ad0-abfd-4156-b6f7-990e75c0bc5c"
      },
      "execution_count": null,
      "outputs": [
        {
          "output_type": "stream",
          "name": "stdout",
          "text": [
            "{'p': 2, 'y': 1, 't': 1, 'h': 1, 'o': 2, 'n': 1, ' ': 1, 'r': 2, 'g': 1, 'a': 1, 'm': 1}\n"
          ]
        }
      ]
    },
    {
      "cell_type": "markdown",
      "source": [
        "17.Write a Python program to get the top three items in a shop.\n",
        "\n",
        "Sample data: {'item1': 45.50, 'item2':35, 'item3': 41.30, 'item4':55, 'item5': 24}\n",
        "\n",
        "Expected Output:\n",
        "\n",
        "item4 55\n",
        "\n",
        "item1 45.5\n",
        "\n",
        "item3 41.3"
      ],
      "metadata": {
        "id": "zEaoRl8CCdH9"
      }
    },
    {
      "cell_type": "code",
      "source": [],
      "metadata": {
        "id": "B1HSMI6RCdfu"
      },
      "execution_count": null,
      "outputs": []
    }
  ]
}