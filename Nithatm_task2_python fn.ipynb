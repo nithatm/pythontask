{
  "nbformat": 4,
  "nbformat_minor": 0,
  "metadata": {
    "colab": {
      "provenance": []
    },
    "kernelspec": {
      "name": "python3",
      "display_name": "Python 3"
    },
    "language_info": {
      "name": "python"
    }
  },
  "cells": [
    {
      "cell_type": "markdown",
      "source": [
        "Exercise 1: Create a function with a default argument\n",
        "\n",
        "Write a program to create a function show_employee() using the following conditions.\n",
        "It should accept the employee’s name and salary and display both.\n",
        "If the salary is missing in the function call then assign default value 9000 to salary\n"
      ],
      "metadata": {
        "id": "ih7w3TFK73Ke"
      }
    },
    {
      "cell_type": "code",
      "execution_count": 25,
      "metadata": {
        "id": "oRtIg8VtWmLU",
        "colab": {
          "base_uri": "https://localhost:8080/"
        },
        "outputId": "ae3eddd5-8773-4424-e9a8-a6fcd09fe8d7"
      },
      "outputs": [
        {
          "output_type": "stream",
          "name": "stdout",
          "text": [
            "Name:Ben,Salary: 12000\n",
            "Name:Nisha,Salary: 9000\n"
          ]
        }
      ],
      "source": [
        "def show_employee(name,salary=9000):\n",
        "  print(\"Name:\" + name + \",Salary: \"+ str(salary))\n",
        "\n",
        "show_employee(\"Ben\",12000)\n",
        "\n",
        "show_employee(\"Nisha\")"
      ]
    },
    {
      "cell_type": "markdown",
      "source": [
        "Exercise 2: Create an inner function to calculate the addition in the following way\n",
        "\n",
        "Create an outer function that will accept two parameters, a and b\n",
        "Create an inner function inside an outer function that will calculate the addition of a and b\n",
        "At last, an outer function will add 5 into addition and return it\n"
      ],
      "metadata": {
        "id": "XJWMI0RrAuN5"
      }
    },
    {
      "cell_type": "code",
      "source": [
        "def outer_function(a, b):\n",
        "    def inner_function():\n",
        "        return a + b\n",
        "\n",
        "    addition = inner_function()\n",
        "    result = addition + 5\n",
        "    return result\n",
        "\n",
        "result = outer_function(5, 8)\n",
        "print(result)"
      ],
      "metadata": {
        "colab": {
          "base_uri": "https://localhost:8080/"
        },
        "id": "VVtWUkZOA3Dd",
        "outputId": "01a7fa04-2dca-4b6b-c10e-a8324833e7b3"
      },
      "execution_count": 30,
      "outputs": [
        {
          "output_type": "stream",
          "name": "stdout",
          "text": [
            "18\n"
          ]
        }
      ]
    },
    {
      "cell_type": "markdown",
      "source": [
        "Exercise 3: Generate a Python list of all the even numbers between 4 to 30"
      ],
      "metadata": {
        "id": "VXMX0bl-DA6l"
      }
    },
    {
      "cell_type": "code",
      "source": [
        "even_numbers = [num for num in range(4, 31) if num % 2 == 0]\n",
        "print(even_numbers)"
      ],
      "metadata": {
        "colab": {
          "base_uri": "https://localhost:8080/"
        },
        "id": "uturtxJIDfua",
        "outputId": "56cab9d7-1ec2-4827-a2b9-2b817693c15f"
      },
      "execution_count": 31,
      "outputs": [
        {
          "output_type": "stream",
          "name": "stdout",
          "text": [
            "[4, 6, 8, 10, 12, 14, 16, 18, 20, 22, 24, 26, 28, 30]\n"
          ]
        }
      ]
    },
    {
      "cell_type": "markdown",
      "source": [
        "Exercise 4: Lambda Function to Check if value is in a List\n",
        "Given a list, the task is to write a Python program to check if the value exists in the list or not using the lambda function.\n",
        "\n",
        "\n",
        "Input  : L = [1, 2, 3, 4, 5]\n",
        "          element = 4\n",
        "Output :  Element is Present in the list\n",
        "\n",
        "Input :  L = [1, 2, 3, 4, 5]\n",
        "          element = 8\n",
        "Output :  Element is NOT Present in the list\n"
      ],
      "metadata": {
        "id": "FZsWY54jDiK4"
      }
    },
    {
      "cell_type": "code",
      "source": [
        "L = [1, 2, 3, 4, 5]\n",
        "element = 4\n",
        "\n",
        "# Using lambda function with filter\n",
        "result = list(filter(lambda x: x == element, L))\n",
        "\n",
        "if result:\n",
        "    print(\"Element is Present in the list\")\n",
        "else:\n",
        "    print(\"Element is NOT Present in the list\")"
      ],
      "metadata": {
        "colab": {
          "base_uri": "https://localhost:8080/"
        },
        "id": "H2t27SQQDyrl",
        "outputId": "c1983626-ce73-411e-f1a0-446ef5be69cc"
      },
      "execution_count": 32,
      "outputs": [
        {
          "output_type": "stream",
          "name": "stdout",
          "text": [
            "Element is Present in the list\n"
          ]
        }
      ]
    },
    {
      "cell_type": "markdown",
      "source": [
        "Exercise 5: Sort list of tuples with their sum\n",
        "Sort the points based on their sum of elements in the tuples\n",
        "\n",
        "points = [(1, 2), (5, 3), (0, 7), (3, 1)]\n"
      ],
      "metadata": {
        "id": "LNEoE7guE--W"
      }
    },
    {
      "cell_type": "code",
      "source": [
        "points = [(1, 2), (5, 3), (0, 7), (3, 1)]\n",
        "sorted_points=sorted (points,key=lambda point:sum(point) )\n",
        "print (sorted_points)"
      ],
      "metadata": {
        "colab": {
          "base_uri": "https://localhost:8080/"
        },
        "id": "vjFo08Q-FE1P",
        "outputId": "5d128cf3-609c-4fbe-e5f1-d3e31edd4477"
      },
      "execution_count": 33,
      "outputs": [
        {
          "output_type": "stream",
          "name": "stdout",
          "text": [
            "[(1, 2), (3, 1), (0, 7), (5, 3)]\n"
          ]
        }
      ]
    },
    {
      "cell_type": "markdown",
      "source": [
        "Exercise 6 :\n",
        "Write a python function, which will find all such numbers between 1000 and 3000 (both included) such that each digit of the number is an even number. Return the results as a list\n"
      ],
      "metadata": {
        "id": "kvaUC8VdFioi"
      }
    },
    {
      "cell_type": "code",
      "source": [
        "def find_even_digits_numbers():\n",
        "    even_digits_numbers = []\n",
        "\n",
        "    for num in range(1000, 3001):\n",
        "        digits = [int(digit) for digit in str(num)]\n",
        "        if all(digit % 2 == 0 for digit in digits):\n",
        "            even_digits_numbers.append(num)\n",
        "\n",
        "    return even_digits_numbers\n",
        "\n",
        "result = find_even_digits_numbers()\n",
        "print(result)"
      ],
      "metadata": {
        "colab": {
          "base_uri": "https://localhost:8080/"
        },
        "id": "GAGMElOxFplx",
        "outputId": "94734b16-c20d-4349-f875-78531a80f797"
      },
      "execution_count": 34,
      "outputs": [
        {
          "output_type": "stream",
          "name": "stdout",
          "text": [
            "[2000, 2002, 2004, 2006, 2008, 2020, 2022, 2024, 2026, 2028, 2040, 2042, 2044, 2046, 2048, 2060, 2062, 2064, 2066, 2068, 2080, 2082, 2084, 2086, 2088, 2200, 2202, 2204, 2206, 2208, 2220, 2222, 2224, 2226, 2228, 2240, 2242, 2244, 2246, 2248, 2260, 2262, 2264, 2266, 2268, 2280, 2282, 2284, 2286, 2288, 2400, 2402, 2404, 2406, 2408, 2420, 2422, 2424, 2426, 2428, 2440, 2442, 2444, 2446, 2448, 2460, 2462, 2464, 2466, 2468, 2480, 2482, 2484, 2486, 2488, 2600, 2602, 2604, 2606, 2608, 2620, 2622, 2624, 2626, 2628, 2640, 2642, 2644, 2646, 2648, 2660, 2662, 2664, 2666, 2668, 2680, 2682, 2684, 2686, 2688, 2800, 2802, 2804, 2806, 2808, 2820, 2822, 2824, 2826, 2828, 2840, 2842, 2844, 2846, 2848, 2860, 2862, 2864, 2866, 2868, 2880, 2882, 2884, 2886, 2888]\n"
          ]
        }
      ]
    },
    {
      "cell_type": "markdown",
      "source": [
        "Exercise 7 :\n",
        "Write a python function that accepts a sentence and calculate and return the number of letters and digits.\n",
        "\n",
        "Suppose the following input is supplied to the program:\n",
        "hello world! 123\n",
        "Then, the output should be:\n",
        "LETTERS 10\n",
        "DIGITS 3\n"
      ],
      "metadata": {
        "id": "IgN96FMCGKcJ"
      }
    },
    {
      "cell_type": "code",
      "source": [
        "def count_letters_digits(sentence):\n",
        "    letters_count = 0\n",
        "    digits_count = 0\n",
        "    for char in sentence:\n",
        "        if char.isalpha():\n",
        "            letters_count += 1\n",
        "        elif char.isdigit():\n",
        "            digits_count += 1\n",
        "    return letters_count, digits_count\n",
        "\n",
        "sentence = \"hello world! 123\"\n",
        "letters, digits = count_letters_digits(sentence)\n",
        "print(\"LETTERS\", letters, \"DIGITS\", digits)"
      ],
      "metadata": {
        "colab": {
          "base_uri": "https://localhost:8080/"
        },
        "id": "iPfRGKwRGTr1",
        "outputId": "f7fffc18-3148-418d-856c-af5533a632bc"
      },
      "execution_count": 35,
      "outputs": [
        {
          "output_type": "stream",
          "name": "stdout",
          "text": [
            "LETTERS 10 DIGITS 3\n"
          ]
        }
      ]
    },
    {
      "cell_type": "markdown",
      "source": [
        "Exercise 8  MAP:\n",
        "\n",
        "Write a Python program to convert all the characters into uppercase and lowercase and eliminate duplicate letters from a given sequence. Use the map() function\n"
      ],
      "metadata": {
        "id": "ouFVlGiiHW3-"
      }
    },
    {
      "cell_type": "code",
      "source": [
        "def convert_and_eliminate_duplicates(sequence):\n",
        "    upper_case = list(map(str.upper, sequence))\n",
        "    lower_case = list(map(str.lower, sequence))\n",
        "    unique_characters = set(upper_case + lower_case)\n",
        "    return unique_characters\n",
        "\n",
        "sequence = \"HelloWorld\"\n",
        "result = convert_and_eliminate_duplicates(sequence)\n",
        "print(result)"
      ],
      "metadata": {
        "colab": {
          "base_uri": "https://localhost:8080/"
        },
        "id": "25jAN1SJH88-",
        "outputId": "12a350fc-8537-45ee-ef6a-4697c4a83210"
      },
      "execution_count": 37,
      "outputs": [
        {
          "output_type": "stream",
          "name": "stdout",
          "text": [
            "{'d', 'W', 'L', 'e', 'R', 'r', 'h', 'w', 'E', 'l', 'O', 'D', 'H', 'o'}\n"
          ]
        }
      ]
    },
    {
      "cell_type": "markdown",
      "source": [
        "Exercise 9 MAP:\n",
        "\n",
        " Write a Python program to element wise add two given lists and find the difference between them. Use the map() function\n"
      ],
      "metadata": {
        "id": "2CQCqU7qIkPV"
      }
    },
    {
      "cell_type": "code",
      "source": [
        "nums1 = [1, 2, 3]\n",
        "nums2 = [4, 5, 6]\n",
        "print(\"Original list:\")\n",
        "print(nums1)\n",
        "print(nums2)\n",
        "result = map(lambda x, y: x + y, nums1, nums2)\n",
        "result1 = map(lambda x, y: x - y, nums1, nums2)\n",
        "print(\"\\nResult: After adding two lists\")\n",
        "print(list(result))\n",
        "print(\"\\nResult: After subtracting two lists\")\n",
        "print(list(result1))"
      ],
      "metadata": {
        "colab": {
          "base_uri": "https://localhost:8080/"
        },
        "id": "KB4RVacgCdA4",
        "outputId": "4cf602d9-7406-4ec9-908e-abdf93c1a306"
      },
      "execution_count": 38,
      "outputs": [
        {
          "output_type": "stream",
          "name": "stdout",
          "text": [
            "Original list:\n",
            "[1, 2, 3]\n",
            "[4, 5, 6]\n",
            "\n",
            "Result: After adding two lists\n",
            "[5, 7, 9]\n",
            "\n",
            "Result: After subtracting two lists\n",
            "[-3, -3, -3]\n"
          ]
        }
      ]
    },
    {
      "cell_type": "markdown",
      "source": [
        "Exercise 10 Filter:\n",
        "Write a Python program to filter the height and weight of students, which are stored in a dictionary using lambda.\n",
        "Original Dictionary:\n",
        "{'Cierra Vega': (6.2, 71), 'Alden Cantrell': (5.9, 65), 'Kierra Gentry': (6.0, 68), 'Pierre Cox': (5.8, 66)}\n",
        "Height> 6ft and Weight> 70kg:\n",
        "{'Cierra Vega': (6.2, 71)}\n"
      ],
      "metadata": {
        "id": "vP2t5h36I352"
      }
    },
    {
      "cell_type": "code",
      "source": [
        "studentdict = {'Cierra Vega': (6.2, 71), 'Alden Cantrell': (5.9, 65), 'Kierra Gentry': (6.0, 68), 'Pierre Cox': (5.8, 66)}\n",
        "newdict = {name:(height,weight) for name,(height,weight) in studentdict.items() if height>6 and weight>70}\n",
        "print(newdict)\n",
        "\n"
      ],
      "metadata": {
        "colab": {
          "base_uri": "https://localhost:8080/"
        },
        "id": "_P4JfeuxtqDm",
        "outputId": "84cc9576-7e0a-4bc8-a473-5f7696482ee5"
      },
      "execution_count": 39,
      "outputs": [
        {
          "output_type": "stream",
          "name": "stdout",
          "text": [
            "{'Cierra Vega': (6.2, 71)}\n"
          ]
        }
      ]
    },
    {
      "cell_type": "markdown",
      "source": [
        "Exercise 11 Filter:\n",
        "\n",
        "Write a Python program to remove all elements from a given list present in another list using lambda.\n",
        "Original lists:\n",
        "list1: [1, 2, 3, 4, 5, 6, 7, 8, 9, 10]\n",
        "list2: [2, 4, 6, 8]\n",
        "Remove all elements from 'list1' present in 'list2:\n",
        "[1, 3, 5, 7, 9, 10]\n"
      ],
      "metadata": {
        "id": "8CjaJXZRJnsq"
      }
    },
    {
      "cell_type": "code",
      "source": [
        "list1 = [1, 2, 3, 4, 5, 6, 7, 8, 9, 10]\n",
        "list2 = [2, 4, 6, 8]\n",
        "\n",
        "# Remove elements from list1 that are present in list2\n",
        "filtered_list = list(filter(lambda x: x not in list2, list1))\n",
        "\n",
        "print(\"Original list1:\", list1)\n",
        "print(\"Original list2:\", list2)\n",
        "print(\"Filtered list1:\", filtered_list)"
      ],
      "metadata": {
        "colab": {
          "base_uri": "https://localhost:8080/"
        },
        "id": "ofnpDfbuJ-BB",
        "outputId": "1d68c0e4-335f-4e3d-ccf1-5ecdff26d1e5"
      },
      "execution_count": 40,
      "outputs": [
        {
          "output_type": "stream",
          "name": "stdout",
          "text": [
            "Original list1: [1, 2, 3, 4, 5, 6, 7, 8, 9, 10]\n",
            "Original list2: [2, 4, 6, 8]\n",
            "Filtered list1: [1, 3, 5, 7, 9, 10]\n"
          ]
        }
      ]
    },
    {
      "cell_type": "markdown",
      "source": [
        "Exercise 12 Reduce:\n",
        "\n",
        "\n",
        "Write a Python program to calculate the product of a given list of numbers using lambda.\n",
        "list1: [1, 2, 3, 4, 5, 6, 7, 8, 9, 10]\n",
        "Product of the said list numbers:\n",
        "3628800\n"
      ],
      "metadata": {
        "id": "SReIl-3zKFau"
      }
    },
    {
      "cell_type": "code",
      "source": [
        "from functools import reduce\n",
        "\n",
        "list1 = [1, 2, 3, 4, 5, 6, 7, 8, 9, 10]\n",
        "\n",
        "product = reduce(lambda x, y: x * y, list1)\n",
        "\n",
        "print(\"list1:\", list1)\n",
        "print(\"Product of the said list numbers:\", product)"
      ],
      "metadata": {
        "colab": {
          "base_uri": "https://localhost:8080/"
        },
        "id": "1rVuYVi2KN5L",
        "outputId": "2456cd6b-b747-4c45-8a75-7b820dc4165a"
      },
      "execution_count": 41,
      "outputs": [
        {
          "output_type": "stream",
          "name": "stdout",
          "text": [
            "list1: [1, 2, 3, 4, 5, 6, 7, 8, 9, 10]\n",
            "Product of the said list numbers: 3628800\n"
          ]
        }
      ]
    },
    {
      "cell_type": "markdown",
      "source": [
        "Exercise 13 Reduce:\n",
        "\n",
        "\n",
        " Write a Python program to multiply all the numbers in a given list using lambda.\n",
        "Original list:\n",
        "[4, 3, 2, 2, -1, 18]\n",
        "Mmultiply all the numbers of the said list: -864\n"
      ],
      "metadata": {
        "id": "v9R0ruJAKjt9"
      }
    },
    {
      "cell_type": "code",
      "source": [
        "from functools import reduce\n",
        "\n",
        "original_list = [4, 3, 2, 2, -1, 18]\n",
        "\n",
        "product = reduce(lambda x, y: x * y, original_list)\n",
        "\n",
        "print(\"Original list:\")\n",
        "print(original_list)\n",
        "print(\"Multiply all the numbers of the said list:\", product)"
      ],
      "metadata": {
        "colab": {
          "base_uri": "https://localhost:8080/"
        },
        "id": "zQqw81ziKyzI",
        "outputId": "58045736-0bf7-40d1-ed57-9ab3c0c7cf24"
      },
      "execution_count": 42,
      "outputs": [
        {
          "output_type": "stream",
          "name": "stdout",
          "text": [
            "Original list:\n",
            "[4, 3, 2, 2, -1, 18]\n",
            "Multiply all the numbers of the said list: -864\n"
          ]
        }
      ]
    },
    {
      "cell_type": "markdown",
      "source": [
        "Exercise 14 Reduce:\n",
        "\n",
        "\n",
        "Write a Python program to calculate the average value of the numbers in a given tuple of tuples using lambda.\n",
        "Original Tuple:\n",
        "((10, 10, 10), (30, 45, 56), (81, 80, 39), (1, 2, 3))\n",
        "Average value of the numbers of the said tuple of tuples:\n",
        "(30.5, 34.25, 27.0)\n"
      ],
      "metadata": {
        "id": "n7EPFT3LLBbd"
      }
    },
    {
      "cell_type": "code",
      "source": [
        "from functools import reduce\n",
        "\n",
        "original_tuple = ((10, 10, 10), (30, 45, 56), (81, 80, 39), (1, 2, 3))\n",
        "\n",
        "sums = map(lambda x: sum(x), zip(*original_tuple))\n",
        "\n",
        "average = tuple(map(lambda x: x / len(original_tuple), sums))\n",
        "\n",
        "print(\"Original Tuple:\")\n",
        "print(original_tuple)\n",
        "print(\"Average value of the numbers of the said tuple of tuples:\", average)"
      ],
      "metadata": {
        "colab": {
          "base_uri": "https://localhost:8080/"
        },
        "id": "qK2d_tVULHtJ",
        "outputId": "cacda0c5-7516-4015-c07e-b6e59bdfd25c"
      },
      "execution_count": 43,
      "outputs": [
        {
          "output_type": "stream",
          "name": "stdout",
          "text": [
            "Original Tuple:\n",
            "((10, 10, 10), (30, 45, 56), (81, 80, 39), (1, 2, 3))\n",
            "Average value of the numbers of the said tuple of tuples: (30.5, 34.25, 27.0)\n"
          ]
        }
      ]
    },
    {
      "cell_type": "markdown",
      "source": [
        "Exercise 15:\n",
        "\n",
        "\n",
        "Write a Python program to sort a given mixed list of integers and strings using lambda. Numbers must be sorted before strings.\n",
        "Original list:\n",
        "[19, 'red', 12, 'green', 'blue', 10, 'white', 'green', 1]\n",
        "Sort the said mixed list of integers and strings:\n",
        "[1, 10, 12, 19, 'blue', 'green', 'green', 'red', 'white']\n"
      ],
      "metadata": {
        "id": "X6BwdvEBLqwg"
      }
    },
    {
      "cell_type": "code",
      "source": [
        "original_list = [19, 'red', 12, 'green', 'blue', 10, 'white', 'green', 1]\n",
        "\n",
        "sorted_list = sorted(original_list, key=lambda x: (type(x) is str, x))\n",
        "\n",
        "print(\"Original list:\")\n",
        "print(original_list)\n",
        "print(\"Sort the said mixed list of integers and strings:\")\n",
        "print(sorted_list)\n"
      ],
      "metadata": {
        "colab": {
          "base_uri": "https://localhost:8080/"
        },
        "id": "8DhYluVFw0fA",
        "outputId": "74877d3d-4512-4a88-8bad-72d83f59a486"
      },
      "execution_count": 44,
      "outputs": [
        {
          "output_type": "stream",
          "name": "stdout",
          "text": [
            "Original list:\n",
            "[19, 'red', 12, 'green', 'blue', 10, 'white', 'green', 1]\n",
            "Sort the said mixed list of integers and strings:\n",
            "[1, 10, 12, 19, 'blue', 'green', 'green', 'red', 'white']\n"
          ]
        }
      ]
    },
    {
      "cell_type": "markdown",
      "source": [
        "Exercise 16:\n",
        "Write a Python program to count the occurrences of items in a given list using lambda.\n",
        "\n",
        "Original list:\n",
        "[3, 4, 5, 8, 0, 3, 8, 5, 0, 3, 1, 5, 2, 3, 4, 2]\n",
        "Count the occurrences of the items in the said list:\n",
        "{3: 4, 4: 2, 5: 3, 8: 2, 0: 2, 1: 1, 2: 2}\n"
      ],
      "metadata": {
        "id": "R-2kkVV0MAiK"
      }
    },
    {
      "cell_type": "code",
      "source": [
        "original_list = [3, 4, 5, 8, 0, 3, 8, 5, 0, 3, 1, 5, 2, 3, 4, 2]\n",
        "\n",
        "occurrences = {}\n",
        "for item in original_list:\n",
        "    occurrences[item] = occurrences.get(item, 0) + 1\n",
        "\n",
        "print(\"Original list:\")\n",
        "print(original_list)\n",
        "print(\"Count the occurrences of the items in the said list:\")\n",
        "print(occurrences)"
      ],
      "metadata": {
        "colab": {
          "base_uri": "https://localhost:8080/"
        },
        "id": "_Qj23fWvMM1w",
        "outputId": "d5e7f9ea-c080-4d67-fe15-7b7e5802eacd"
      },
      "execution_count": 45,
      "outputs": [
        {
          "output_type": "stream",
          "name": "stdout",
          "text": [
            "Original list:\n",
            "[3, 4, 5, 8, 0, 3, 8, 5, 0, 3, 1, 5, 2, 3, 4, 2]\n",
            "Count the occurrences of the items in the said list:\n",
            "{3: 4, 4: 2, 5: 3, 8: 2, 0: 2, 1: 1, 2: 2}\n"
          ]
        }
      ]
    },
    {
      "cell_type": "markdown",
      "source": [
        "Exercise 17:\n",
        "\n",
        "\n",
        "Write a Python program to remove None values from a given list using the lambda function.\n",
        "Original list:\n",
        "[12, 0, None, 23, None, -55, 234, 89, None, 0, 6, -12]\n",
        "Remove None value from the said list:\n",
        "[12, 0, 23, -55, 234, 89, 0, 6, -12]\n"
      ],
      "metadata": {
        "id": "mXfDkkBxMTmO"
      }
    },
    {
      "cell_type": "code",
      "source": [
        "original_list = [12, 0, None, 23, None, -55, 234, 89, None, 0, 6, -12]\n",
        "\n",
        "filtered_list = list(filter(lambda x: x is not None, original_list))\n",
        "\n",
        "print(\"Original list:\")\n",
        "print(original_list)\n",
        "print(\"Remove None value from the said list:\")\n",
        "print(filtered_list)"
      ],
      "metadata": {
        "colab": {
          "base_uri": "https://localhost:8080/"
        },
        "id": "SlHYEGSeMg5Q",
        "outputId": "f9a15a4b-9ce1-4e74-9b06-727895d0b926"
      },
      "execution_count": 46,
      "outputs": [
        {
          "output_type": "stream",
          "name": "stdout",
          "text": [
            "Original list:\n",
            "[12, 0, None, 23, None, -55, 234, 89, None, 0, 6, -12]\n",
            "Remove None value from the said list:\n",
            "[12, 0, 23, -55, 234, 89, 0, 6, -12]\n"
          ]
        }
      ]
    }
  ]
}