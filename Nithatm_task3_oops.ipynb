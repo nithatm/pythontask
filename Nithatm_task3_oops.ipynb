{
  "nbformat": 4,
  "nbformat_minor": 0,
  "metadata": {
    "colab": {
      "provenance": []
    },
    "kernelspec": {
      "name": "python3",
      "display_name": "Python 3"
    },
    "language_info": {
      "name": "python"
    }
  },
  "cells": [
    {
      "cell_type": "markdown",
      "source": [
        "1.  Write a Python program to create a class representing a Circle. Include methods to calculate its area and perimeter."
      ],
      "metadata": {
        "id": "kPPedj8-N7gt"
      }
    },
    {
      "cell_type": "code",
      "source": [
        "import math\n",
        "\n",
        "class Circle:\n",
        "    def __init__(self, radius):\n",
        "        self.radius = radius\n",
        "\n",
        "    def area(self):\n",
        "        return math.pi * self.radius ** 2\n",
        "\n",
        "    def perimeter(self):\n",
        "        return 2 * math.pi * self.radius\n",
        "\n",
        "radius = float(input(\"Enter the radius of the circle: \"))\n",
        "circle = Circle(radius)\n",
        "print(\"Area of the circle:\", circle.area())\n",
        "print(\"Perimeter of the circle:\", circle.perimeter())"
      ],
      "metadata": {
        "colab": {
          "base_uri": "https://localhost:8080/"
        },
        "id": "2zncq_Z7OABn",
        "outputId": "0ecd4a4d-be3a-45d0-bf1c-dd62cdf34abf"
      },
      "execution_count": 1,
      "outputs": [
        {
          "output_type": "stream",
          "name": "stdout",
          "text": [
            "Enter the radius of the circle: 6\n",
            "Area of the circle: 113.09733552923255\n",
            "Perimeter of the circle: 37.69911184307752\n"
          ]
        }
      ]
    },
    {
      "cell_type": "markdown",
      "source": [
        "2. Write a Python program to create a calculator class. Include methods for basic arithmetic operations.\n"
      ],
      "metadata": {
        "id": "Wpbm9QxpOgSN"
      }
    },
    {
      "cell_type": "code",
      "source": [
        "class Calculator:\n",
        "    def add(self, a, b):\n",
        "        return a + b\n",
        "\n",
        "    def subtract(self, a, b):\n",
        "        return a - b\n",
        "\n",
        "    def multiply(self, a, b):\n",
        "        return a * b\n",
        "\n",
        "    def divide(self, a, b):\n",
        "        if b == 0:\n",
        "            return \"Error: Division by zero!\"\n",
        "        else:\n",
        "            return a / b\n",
        "\n",
        "calculator = Calculator()\n",
        "print(\"Addition,5+3=\", calculator.add(5, 3))\n",
        "print(\"Subtraction,5-3=\", calculator.subtract(5, 3))\n",
        "print(\"Multiplication,5*3=\", calculator.multiply(5, 3))\n",
        "print(\"Division,5/3=\", calculator.divide(5, 3))"
      ],
      "metadata": {
        "colab": {
          "base_uri": "https://localhost:8080/"
        },
        "id": "2rrBkfhvP9ks",
        "outputId": "a5412d21-e8c3-460b-c00e-6c37f34441b0"
      },
      "execution_count": 5,
      "outputs": [
        {
          "output_type": "stream",
          "name": "stdout",
          "text": [
            "Addition,5+3= 8\n",
            "Subtraction,5-3= 2\n",
            "Multiplication,5*3= 15\n",
            "Division,5/3= 1.6666666666666667\n"
          ]
        }
      ]
    },
    {
      "cell_type": "markdown",
      "source": [
        "3. Write a Python program to create a class that represents a shape. Include methods to calculate its area and perimeter. Implement subclasses for different shapes like circle, triangle, and square.\n"
      ],
      "metadata": {
        "id": "i1jWU2dXQyvK"
      }
    },
    {
      "cell_type": "code",
      "source": [
        "import math\n",
        "\n",
        "class Shape:\n",
        "    def area(self):\n",
        "        pass\n",
        "\n",
        "    def perimeter(self):\n",
        "        pass\n",
        "\n",
        "class Circle(Shape):\n",
        "    def __init__(self, radius):\n",
        "        self.radius = radius\n",
        "\n",
        "    def area(self):\n",
        "        return math.pi * self.radius ** 2\n",
        "\n",
        "    def perimeter(self):\n",
        "        return 2 * math.pi * self.radius\n",
        "\n",
        "class Triangle(Shape):\n",
        "    def __init__(self, side1, side2, side3):\n",
        "        self.side1 = side1\n",
        "        self.side2 = side2\n",
        "        self.side3 = side3\n",
        "\n",
        "    def area(self):\n",
        "        s = (self.side1 + self.side2 + self.side3) / 2\n",
        "        return math.sqrt(s * (s - self.side1) * (s - self.side2) * (s - self.side3))\n",
        "\n",
        "    def perimeter(self):\n",
        "        return self.side1 + self.side2 + self.side3\n",
        "\n",
        "class Square(Shape):\n",
        "    def __init__(self, side):\n",
        "        self.side = side\n",
        "\n",
        "    def area(self):\n",
        "        return self.side ** 2\n",
        "\n",
        "    def perimeter(self):\n",
        "        return 4 * self.side\n",
        "\n",
        "circle = Circle(5)\n",
        "print(\"Circle Area:\", circle.area())\n",
        "print(\"Circle Perimeter:\", circle.perimeter())\n",
        "\n",
        "triangle = Triangle(3, 4, 5)\n",
        "print(\"Triangle Area:\", triangle.area())\n",
        "print(\"Triangle Perimeter:\", triangle.perimeter())\n",
        "\n",
        "square = Square(4)\n",
        "print(\"Square Area:\", square.area())\n",
        "print(\"Square Perimeter:\", square.perimeter())"
      ],
      "metadata": {
        "colab": {
          "base_uri": "https://localhost:8080/"
        },
        "id": "z8yssxUXQ29x",
        "outputId": "61995ea1-06f5-4c6f-c10e-1fa1fcfb3d11"
      },
      "execution_count": 6,
      "outputs": [
        {
          "output_type": "stream",
          "name": "stdout",
          "text": [
            "Circle Area: 78.53981633974483\n",
            "Circle Perimeter: 31.41592653589793\n",
            "Triangle Area: 6.0\n",
            "Triangle Perimeter: 12\n",
            "Square Area: 16\n",
            "Square Perimeter: 16\n"
          ]
        }
      ]
    }
  ]
}