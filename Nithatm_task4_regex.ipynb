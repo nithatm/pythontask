{
  "nbformat": 4,
  "nbformat_minor": 0,
  "metadata": {
    "colab": {
      "provenance": []
    },
    "kernelspec": {
      "name": "python3",
      "display_name": "Python 3"
    },
    "language_info": {
      "name": "python"
    }
  },
  "cells": [
    {
      "cell_type": "markdown",
      "source": [
        "1. Write a Python program to check that a string contains only a certain set of characters (in this case a-z, A-Z and 0-9).\n",
        "\n"
      ],
      "metadata": {
        "id": "fpQX9wBhb6ox"
      }
    },
    {
      "cell_type": "code",
      "source": [
        "import re\n",
        "\n",
        "def check_characters(input_string):\n",
        "    pattern = re.compile(r'^[a-zA-Z0-9]+$')\n",
        "    if pattern.match(input_string):\n",
        "        return True\n",
        "    else:\n",
        "        return False\n",
        "\n",
        "test_string = \"Abc123\"\n",
        "if check_characters(test_string):\n",
        "\n",
        "    print(\"The string contains only a-z, A-Z, and 0-9.\")\n",
        "else:\n",
        "    print(\"The string contains other characters besides a-z, A-Z, and 0-9.\")"
      ],
      "metadata": {
        "colab": {
          "base_uri": "https://localhost:8080/"
        },
        "id": "SV0e2-eDsvRj",
        "outputId": "b62e32c4-4e33-4c97-ab06-5feef4b72e84"
      },
      "execution_count": null,
      "outputs": [
        {
          "output_type": "stream",
          "name": "stdout",
          "text": [
            "The string contains only a-z, A-Z, and 0-9.\n"
          ]
        }
      ]
    },
    {
      "cell_type": "markdown",
      "source": [
        "2. Write a Python program that matches a string that has an a followed by zero or more b's."
      ],
      "metadata": {
        "id": "wR3XQtXft-mC"
      }
    },
    {
      "cell_type": "code",
      "source": [
        "import re\n",
        "\n",
        "def match_pattern(input_string):\n",
        "    pattern = re.compile(r'ab*')\n",
        "    if pattern.match(input_string):\n",
        "        return True\n",
        "    else:\n",
        "        return False\n",
        "\n",
        "test_string = \"abbb\"\n",
        "\n",
        "if match_pattern(test_string):\n",
        "    print(\"The string matches the pattern: an 'a' followed by zero or more 'b's.\")\n",
        "else:\n",
        "    print(\"The string doesn't match the pattern.\")\n"
      ],
      "metadata": {
        "colab": {
          "base_uri": "https://localhost:8080/"
        },
        "id": "cmdhI66fuHha",
        "outputId": "db2afe3c-59d9-49e9-d45d-81ec0056b29c"
      },
      "execution_count": null,
      "outputs": [
        {
          "output_type": "stream",
          "name": "stdout",
          "text": [
            "The string matches the pattern: an 'a' followed by zero or more 'b's.\n"
          ]
        }
      ]
    },
    {
      "cell_type": "markdown",
      "source": [],
      "metadata": {
        "id": "MQje_cOru6Il"
      }
    },
    {
      "cell_type": "markdown",
      "source": [
        "3. Replace only the first occurrence of 5 with five for the given string\n",
        "\n"
      ],
      "metadata": {
        "id": "kyvbz3eNcZri"
      }
    },
    {
      "cell_type": "code",
      "source": [
        "import re\n",
        "string = 'They ate 5 apples and 5 oranges.'\n",
        "x=re.sub('5', 'five', string,1)\n",
        "print(x)"
      ],
      "metadata": {
        "colab": {
          "base_uri": "https://localhost:8080/"
        },
        "id": "mILgf0W9rGwO",
        "outputId": "230978d1-5ccd-4a4a-f883-7ef97fba6793"
      },
      "execution_count": null,
      "outputs": [
        {
          "output_type": "stream",
          "name": "stdout",
          "text": [
            "They ate five apples and 5 oranges.\n"
          ]
        }
      ]
    },
    {
      "cell_type": "markdown",
      "source": [
        "4. Write a Python program that matches a string that has an a followed by three 'b'."
      ],
      "metadata": {
        "id": "Qhv3-VskwK0L"
      }
    },
    {
      "cell_type": "code",
      "source": [
        "import re\n",
        "\n",
        "def match_pattern(input_string):\n",
        "    pattern = re.compile(r'ab{3}')\n",
        "    if pattern.search(input_string):\n",
        "        return True\n",
        "    else:\n",
        "        return False\n",
        "\n",
        "test_string = \"abbb\"\n",
        "if match_pattern(test_string):\n",
        "    print(\"The string matches the pattern: an 'a' followed by three 'b's.\")\n",
        "else:\n",
        "    print(\"The string doesn't match the pattern.\")"
      ],
      "metadata": {
        "colab": {
          "base_uri": "https://localhost:8080/"
        },
        "id": "g5Qzd7IOwQVC",
        "outputId": "1b70831a-019d-4932-c97f-13abad49d001"
      },
      "execution_count": null,
      "outputs": [
        {
          "output_type": "stream",
          "name": "stdout",
          "text": [
            "The string matches the pattern: an 'a' followed by three 'b's.\n"
          ]
        }
      ]
    },
    {
      "cell_type": "markdown",
      "source": [],
      "metadata": {
        "id": "T8FmsEk8wrTH"
      }
    },
    {
      "cell_type": "markdown",
      "source": [
        "5. Write a Python program that matches a string that has an 'a' followed by anything ending in 'b'.\n",
        "\n"
      ],
      "metadata": {
        "id": "K2vPe01bc2LN"
      }
    },
    {
      "cell_type": "code",
      "source": [
        "import re\n",
        "\n",
        "def match_pattern(input_string):\n",
        "    pattern = re.compile(r'a.*b$')\n",
        "    if pattern.match(input_string):\n",
        "        return True\n",
        "    else:\n",
        "        return False\n",
        "\n",
        "test_string = \"acob\"\n",
        "if match_pattern(test_string):\n",
        "    print(\"The string matches the pattern: an 'a' followed by anything ending in 'b'.\")\n",
        "else:\n",
        "    print(\"The string doesn't match the pattern.\")"
      ],
      "metadata": {
        "colab": {
          "base_uri": "https://localhost:8080/"
        },
        "id": "7uhu83R7w2xX",
        "outputId": "f530d5bd-a4db-4efa-cc18-f0a522364bb2"
      },
      "execution_count": null,
      "outputs": [
        {
          "output_type": "stream",
          "name": "stdout",
          "text": [
            "The string matches the pattern: an 'a' followed by anything ending in 'b'.\n"
          ]
        }
      ]
    },
    {
      "cell_type": "markdown",
      "source": [],
      "metadata": {
        "id": "7sPmZCVbw7qr"
      }
    },
    {
      "cell_type": "markdown",
      "source": [
        "6. Write a Python program to search for numbers (0-9) of length between 1 and 3 in a given string."
      ],
      "metadata": {
        "id": "NyL-DhqXdZi7"
      }
    },
    {
      "cell_type": "code",
      "source": [
        "import re\n",
        "txt=\"Exercises number 1, 12, 13, 54587,4526 and 345 are important\"\n",
        "output=re.findall(r'\\b\\d{1,3}\\b',txt)\n",
        "print(output)"
      ],
      "metadata": {
        "id": "pWsu0HljdnKX",
        "colab": {
          "base_uri": "https://localhost:8080/"
        },
        "outputId": "f57caf8e-f20b-4751-cadc-bb63929e52f4"
      },
      "execution_count": null,
      "outputs": [
        {
          "output_type": "stream",
          "name": "stdout",
          "text": [
            "['1', '12', '13', '345']\n"
          ]
        }
      ]
    },
    {
      "cell_type": "markdown",
      "source": [
        "7. Write a Python program to search for literal strings within a string.\\\n",
        "Sample text : 'The quick brown fox jumps over the lazy dog.' \\\n",
        "Searched words : 'fox', 'dog', 'horse'"
      ],
      "metadata": {
        "id": "aWaHWXFjdqy7"
      }
    },
    {
      "cell_type": "code",
      "source": [
        "import re\n",
        "patterns = [ 'fox', 'dog', 'horse' ]\n",
        "text = 'The quick brown fox jumps over the lazy dog.'\n",
        "for pattern in patterns:\n",
        "    print('Searching for \"%s\" in \"%s\" :'%(pattern, text),)\n",
        "    if re.search(pattern,  text):\n",
        "        print('Matched!')\n",
        "    else:\n",
        "        print('Not Matched!')\n"
      ],
      "metadata": {
        "colab": {
          "base_uri": "https://localhost:8080/"
        },
        "id": "NwtANUcqlTuq",
        "outputId": "347fbd11-f4e7-47f9-8cfd-344e1d4c5ea5"
      },
      "execution_count": 2,
      "outputs": [
        {
          "output_type": "stream",
          "name": "stdout",
          "text": [
            "Searching for \"fox\" in \"The quick brown fox jumps over the lazy dog.\" :\n",
            "Matched!\n",
            "Searching for \"dog\" in \"The quick brown fox jumps over the lazy dog.\" :\n",
            "Matched!\n",
            "Searching for \"horse\" in \"The quick brown fox jumps over the lazy dog.\" :\n",
            "Not Matched!\n"
          ]
        }
      ]
    },
    {
      "cell_type": "markdown",
      "source": [
        "8. Write a Python program to search for a literal string in a string and also find the location within the original string where the pattern occurs.\n",
        "\n",
        "Sample text : 'The quick brown fox jumps over the lazy dog.' \\\n",
        "Searched words : 'fox'"
      ],
      "metadata": {
        "id": "2cgZLc6Yd0sE"
      }
    },
    {
      "cell_type": "code",
      "source": [],
      "metadata": {
        "id": "0qJhZIgR1I2X"
      },
      "execution_count": null,
      "outputs": []
    },
    {
      "cell_type": "code",
      "source": [
        "import re\n",
        "pattern = 'fox'\n",
        "text = 'The quick brown fox jumps over the lazy dog.'\n",
        "match = re.search(pattern, text)\n",
        "s = match.start()\n",
        "e = match.end()\n",
        "print('Found \"%s\" in \"%s\" from %d to %d ' % \\\n",
        "    (match.re.pattern, match.string, s, e))"
      ],
      "metadata": {
        "colab": {
          "base_uri": "https://localhost:8080/"
        },
        "id": "Rp2WFvZZ8r-o",
        "outputId": "1012a678-3491-43e9-f343-b14701861962"
      },
      "execution_count": 3,
      "outputs": [
        {
          "output_type": "stream",
          "name": "stdout",
          "text": [
            "Found \"fox\" in \"The quick brown fox jumps over the lazy dog.\" from 16 to 19 \n"
          ]
        }
      ]
    },
    {
      "cell_type": "markdown",
      "source": [],
      "metadata": {
        "id": "oO5F65e11MgV"
      }
    },
    {
      "cell_type": "markdown",
      "source": [
        "9.  Write a Python program to extract year, month and date from an URL"
      ],
      "metadata": {
        "id": "ixuwdsnvdtcP"
      }
    },
    {
      "cell_type": "code",
      "source": [
        "import re\n",
        "url1= \"https://www.washingtonpost.com/news/football-insider/wp/2016/09/02/odell-beckhams-fame-rests-on-one-stupid-little-ball-josh-norman-tells-author/\"\n",
        "pattern=r'\\d{4}/\\d{1,2}/\\d{1,2}'\n",
        "x=re.findall(pattern,url1)\n",
        "print(x)"
      ],
      "metadata": {
        "colab": {
          "base_uri": "https://localhost:8080/"
        },
        "outputId": "600caa19-9dac-4fd7-f72b-1749b824dd35",
        "id": "0HEdva9MPr9g"
      },
      "execution_count": 4,
      "outputs": [
        {
          "output_type": "stream",
          "name": "stdout",
          "text": [
            "['2016/09/02']\n"
          ]
        }
      ]
    },
    {
      "cell_type": "markdown",
      "source": [],
      "metadata": {
        "id": "r2vg8Nwr2FBm"
      }
    },
    {
      "cell_type": "markdown",
      "source": [
        "10. Write a Python program to find URLs in a string.\n",
        "\n"
      ],
      "metadata": {
        "id": "Qdob8Ojkea-W"
      }
    },
    {
      "cell_type": "code",
      "source": [
        "import re\n",
        "\n",
        "text = '<p>Contents :</p><a href=\"https://w3resource.com\">Python Examples</a><a href=\"http://github.com\">Even More Examples</a>'\n",
        "p=\"http[s]?://(?:[a-zA-Z]|[0-9]|[$-_@.&+]|[!*\\(\\),]|(?:%[0-9a-fA-F][0-9a-fA-F]))+\"\n",
        "r=re.findall(p,text)\n",
        "print(r)\n",
        "\n"
      ],
      "metadata": {
        "colab": {
          "base_uri": "https://localhost:8080/"
        },
        "id": "Nn35__d0VYFv",
        "outputId": "415e4376-a509-4019-982e-e262257b217c"
      },
      "execution_count": 5,
      "outputs": [
        {
          "output_type": "stream",
          "name": "stdout",
          "text": [
            "['https://w3resource.com', 'http://github.com']\n"
          ]
        }
      ]
    },
    {
      "cell_type": "markdown",
      "source": [
        "11. Write a Python program to remove the parenthesis area in a string.\\\n",
        "\n",
        "Sample data : [\"example (.com)\", \"w3resource\", \"github (.com)\", \"stackoverflow (.com)\"] \\\n",
        "Expected Output: \\\n",
        "example  \\\n",
        "w3resource \\\n",
        "github  \\\n",
        "stackoverflow. \\\n",
        "\n"
      ],
      "metadata": {
        "id": "5mX_cCEFepSi"
      }
    },
    {
      "cell_type": "code",
      "source": [
        "import re\n",
        "items = [\"example (.com)\", \"w3resource\", \"github (.com)\", \"stackoverflow (.com)\"]\n",
        "for item in items:\n",
        "    print(re.sub(r\" ?\\([^)]+\\)\", \"\", item))\n"
      ],
      "metadata": {
        "colab": {
          "base_uri": "https://localhost:8080/"
        },
        "id": "iRdFcrZYaBci",
        "outputId": "fe8bb7cb-533e-46c1-8526-479b034a4c46"
      },
      "execution_count": 6,
      "outputs": [
        {
          "output_type": "stream",
          "name": "stdout",
          "text": [
            "example\n",
            "w3resource\n",
            "github\n",
            "stackoverflow\n"
          ]
        }
      ]
    },
    {
      "cell_type": "markdown",
      "source": [
        "12. Write a Python program to concatenate the consecutive numbers in a given string. \\\n",
        "\n",
        "Original string:  \\\n",
        "Enter at 1 20 Kearny Street. The security desk can direct you to floor 1 6. Please have your identification ready.  \\\n",
        "\n",
        "After concatenating the consecutive numbers in the said string:  \\\n",
        "Enter at 120 Kearny Street. The security desk can direct you to floor 16. Please have your identification ready."
      ],
      "metadata": {
        "id": "sRhveFHXe7nz"
      }
    },
    {
      "cell_type": "code",
      "source": [],
      "metadata": {
        "id": "jLshCJ9q21cO"
      },
      "execution_count": null,
      "outputs": []
    },
    {
      "cell_type": "code",
      "source": [
        "import re\n",
        "\n",
        "txt = \"Enter at 1 20 Kearny Street. The security desk can direct you to floor 1 6. Please have your identification ready.\"\n",
        "print(\"Original string:\",txt)\n",
        "newS = re.sub(r\"(?<=\\d)\\s(?=\\d)\", '', txt)\n",
        "print('\\nUpdated string:',newS)\n"
      ],
      "metadata": {
        "colab": {
          "base_uri": "https://localhost:8080/"
        },
        "id": "-JYFyYGTcyZO",
        "outputId": "ca006589-b27a-488c-8a63-f801fa75ed74"
      },
      "execution_count": 7,
      "outputs": [
        {
          "output_type": "stream",
          "name": "stdout",
          "text": [
            "Original string: Enter at 1 20 Kearny Street. The security desk can direct you to floor 1 6. Please have your identification ready.\n",
            "\n",
            "Updated string: Enter at 120 Kearny Street. The security desk can direct you to floor 16. Please have your identification ready.\n"
          ]
        }
      ]
    }
  ]
}